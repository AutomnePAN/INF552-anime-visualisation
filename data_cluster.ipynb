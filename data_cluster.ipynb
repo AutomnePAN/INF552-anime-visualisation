{
 "cells": [
  {
   "cell_type": "code",
   "execution_count": 1,
   "metadata": {},
   "outputs": [],
   "source": [
    "import numpy as np\n",
    "import pylab as pl\n",
    "import scipy as sp\n",
    "import pandas as pd"
   ]
  },
  {
   "cell_type": "code",
   "execution_count": 3,
   "metadata": {},
   "outputs": [],
   "source": [
    "anime_recommand_raw = pd.read_csv(\"./data/anime_recommend.csv\")\n",
    "rating_recommand_raw = pd.read_csv(\"./data/rating_recommend.csv\")\n",
    "data_anime_raw = pd.read_csv(\"./data/dataanime.csv\")"
   ]
  },
  {
   "cell_type": "code",
   "execution_count": 4,
   "metadata": {},
   "outputs": [
    {
     "data": {
      "text/html": [
       "<div>\n",
       "<style scoped>\n",
       "    .dataframe tbody tr th:only-of-type {\n",
       "        vertical-align: middle;\n",
       "    }\n",
       "\n",
       "    .dataframe tbody tr th {\n",
       "        vertical-align: top;\n",
       "    }\n",
       "\n",
       "    .dataframe thead th {\n",
       "        text-align: right;\n",
       "    }\n",
       "</style>\n",
       "<table border=\"1\" class=\"dataframe\">\n",
       "  <thead>\n",
       "    <tr style=\"text-align: right;\">\n",
       "      <th></th>\n",
       "      <th>anime_id</th>\n",
       "      <th>name</th>\n",
       "      <th>genre</th>\n",
       "      <th>type</th>\n",
       "      <th>episodes</th>\n",
       "      <th>rating</th>\n",
       "      <th>members</th>\n",
       "    </tr>\n",
       "  </thead>\n",
       "  <tbody>\n",
       "    <tr>\n",
       "      <th>0</th>\n",
       "      <td>32281</td>\n",
       "      <td>Kimi no Na wa.</td>\n",
       "      <td>Drama, Romance, School, Supernatural</td>\n",
       "      <td>Movie</td>\n",
       "      <td>1</td>\n",
       "      <td>9.37</td>\n",
       "      <td>200630</td>\n",
       "    </tr>\n",
       "    <tr>\n",
       "      <th>1</th>\n",
       "      <td>5114</td>\n",
       "      <td>Fullmetal Alchemist: Brotherhood</td>\n",
       "      <td>Action, Adventure, Drama, Fantasy, Magic, Mili...</td>\n",
       "      <td>TV</td>\n",
       "      <td>64</td>\n",
       "      <td>9.26</td>\n",
       "      <td>793665</td>\n",
       "    </tr>\n",
       "    <tr>\n",
       "      <th>2</th>\n",
       "      <td>28977</td>\n",
       "      <td>Gintama°</td>\n",
       "      <td>Action, Comedy, Historical, Parody, Samurai, S...</td>\n",
       "      <td>TV</td>\n",
       "      <td>51</td>\n",
       "      <td>9.25</td>\n",
       "      <td>114262</td>\n",
       "    </tr>\n",
       "    <tr>\n",
       "      <th>3</th>\n",
       "      <td>9253</td>\n",
       "      <td>Steins;Gate</td>\n",
       "      <td>Sci-Fi, Thriller</td>\n",
       "      <td>TV</td>\n",
       "      <td>24</td>\n",
       "      <td>9.17</td>\n",
       "      <td>673572</td>\n",
       "    </tr>\n",
       "    <tr>\n",
       "      <th>4</th>\n",
       "      <td>9969</td>\n",
       "      <td>Gintama&amp;#039;</td>\n",
       "      <td>Action, Comedy, Historical, Parody, Samurai, S...</td>\n",
       "      <td>TV</td>\n",
       "      <td>51</td>\n",
       "      <td>9.16</td>\n",
       "      <td>151266</td>\n",
       "    </tr>\n",
       "  </tbody>\n",
       "</table>\n",
       "</div>"
      ],
      "text/plain": [
       "   anime_id                              name  \\\n",
       "0     32281                    Kimi no Na wa.   \n",
       "1      5114  Fullmetal Alchemist: Brotherhood   \n",
       "2     28977                          Gintama°   \n",
       "3      9253                       Steins;Gate   \n",
       "4      9969                     Gintama&#039;   \n",
       "\n",
       "                                               genre   type episodes  rating  \\\n",
       "0               Drama, Romance, School, Supernatural  Movie        1    9.37   \n",
       "1  Action, Adventure, Drama, Fantasy, Magic, Mili...     TV       64    9.26   \n",
       "2  Action, Comedy, Historical, Parody, Samurai, S...     TV       51    9.25   \n",
       "3                                   Sci-Fi, Thriller     TV       24    9.17   \n",
       "4  Action, Comedy, Historical, Parody, Samurai, S...     TV       51    9.16   \n",
       "\n",
       "   members  \n",
       "0   200630  \n",
       "1   793665  \n",
       "2   114262  \n",
       "3   673572  \n",
       "4   151266  "
      ]
     },
     "execution_count": 4,
     "metadata": {},
     "output_type": "execute_result"
    }
   ],
   "source": [
    "anime_recommand_raw.head()"
   ]
  },
  {
   "cell_type": "code",
   "execution_count": 31,
   "metadata": {},
   "outputs": [
    {
     "data": {
      "text/html": [
       "<div>\n",
       "<style scoped>\n",
       "    .dataframe tbody tr th:only-of-type {\n",
       "        vertical-align: middle;\n",
       "    }\n",
       "\n",
       "    .dataframe tbody tr th {\n",
       "        vertical-align: top;\n",
       "    }\n",
       "\n",
       "    .dataframe thead th {\n",
       "        text-align: right;\n",
       "    }\n",
       "</style>\n",
       "<table border=\"1\" class=\"dataframe\">\n",
       "  <thead>\n",
       "    <tr style=\"text-align: right;\">\n",
       "      <th></th>\n",
       "      <th>user_id</th>\n",
       "      <th>anime_id</th>\n",
       "      <th>rating</th>\n",
       "    </tr>\n",
       "  </thead>\n",
       "  <tbody>\n",
       "    <tr>\n",
       "      <th>0</th>\n",
       "      <td>1</td>\n",
       "      <td>20</td>\n",
       "      <td>-1</td>\n",
       "    </tr>\n",
       "    <tr>\n",
       "      <th>1</th>\n",
       "      <td>1</td>\n",
       "      <td>24</td>\n",
       "      <td>-1</td>\n",
       "    </tr>\n",
       "    <tr>\n",
       "      <th>2</th>\n",
       "      <td>1</td>\n",
       "      <td>79</td>\n",
       "      <td>-1</td>\n",
       "    </tr>\n",
       "    <tr>\n",
       "      <th>3</th>\n",
       "      <td>1</td>\n",
       "      <td>226</td>\n",
       "      <td>-1</td>\n",
       "    </tr>\n",
       "    <tr>\n",
       "      <th>4</th>\n",
       "      <td>1</td>\n",
       "      <td>241</td>\n",
       "      <td>-1</td>\n",
       "    </tr>\n",
       "  </tbody>\n",
       "</table>\n",
       "</div>"
      ],
      "text/plain": [
       "   user_id  anime_id  rating\n",
       "0        1        20      -1\n",
       "1        1        24      -1\n",
       "2        1        79      -1\n",
       "3        1       226      -1\n",
       "4        1       241      -1"
      ]
     },
     "execution_count": 31,
     "metadata": {},
     "output_type": "execute_result"
    }
   ],
   "source": [
    "rating_recommand_raw.head()"
   ]
  },
  {
   "cell_type": "code",
   "execution_count": 6,
   "metadata": {},
   "outputs": [
    {
     "data": {
      "text/html": [
       "<div>\n",
       "<style scoped>\n",
       "    .dataframe tbody tr th:only-of-type {\n",
       "        vertical-align: middle;\n",
       "    }\n",
       "\n",
       "    .dataframe tbody tr th {\n",
       "        vertical-align: top;\n",
       "    }\n",
       "\n",
       "    .dataframe thead th {\n",
       "        text-align: right;\n",
       "    }\n",
       "</style>\n",
       "<table border=\"1\" class=\"dataframe\">\n",
       "  <thead>\n",
       "    <tr style=\"text-align: right;\">\n",
       "      <th></th>\n",
       "      <th>Title</th>\n",
       "      <th>Type</th>\n",
       "      <th>Episodes</th>\n",
       "      <th>Status</th>\n",
       "      <th>Start airing</th>\n",
       "      <th>End airing</th>\n",
       "      <th>Starting season</th>\n",
       "      <th>Broadcast time</th>\n",
       "      <th>Producers</th>\n",
       "      <th>Licensors</th>\n",
       "      <th>Studios</th>\n",
       "      <th>Sources</th>\n",
       "      <th>Genres</th>\n",
       "      <th>Duration</th>\n",
       "      <th>Rating</th>\n",
       "      <th>Score</th>\n",
       "      <th>Scored by</th>\n",
       "      <th>Members</th>\n",
       "      <th>Favorites</th>\n",
       "      <th>Description</th>\n",
       "    </tr>\n",
       "  </thead>\n",
       "  <tbody>\n",
       "    <tr>\n",
       "      <th>0</th>\n",
       "      <td>Fullmetal Alchemist: Brotherhood</td>\n",
       "      <td>TV</td>\n",
       "      <td>64</td>\n",
       "      <td>Finished Airing</td>\n",
       "      <td>2009-4-5</td>\n",
       "      <td>2010-7-4</td>\n",
       "      <td>Spring</td>\n",
       "      <td>Sundays at 17:00 (JST)</td>\n",
       "      <td>Aniplex,Square Enix,Mainichi Broadcasting Syst...</td>\n",
       "      <td>Funimation,Aniplex of America</td>\n",
       "      <td>Bones</td>\n",
       "      <td>Manga</td>\n",
       "      <td>Action,Military,Adventure,Comedy,Drama,Magic,F...</td>\n",
       "      <td>24 min. per ep.</td>\n",
       "      <td>R</td>\n",
       "      <td>9.25</td>\n",
       "      <td>719706</td>\n",
       "      <td>1176368</td>\n",
       "      <td>105387</td>\n",
       "      <td>\"In order for something to be obtained, someth...</td>\n",
       "    </tr>\n",
       "    <tr>\n",
       "      <th>1</th>\n",
       "      <td>Kimi no Na wa.</td>\n",
       "      <td>Movie</td>\n",
       "      <td>1</td>\n",
       "      <td>Finished Airing</td>\n",
       "      <td>2016-8-26</td>\n",
       "      <td>-</td>\n",
       "      <td>-</td>\n",
       "      <td>-</td>\n",
       "      <td>Kadokawa Shoten,Toho,Sound Team Don Juan,Lawso...</td>\n",
       "      <td>Funimation,NYAV Post</td>\n",
       "      <td>CoMix Wave Films</td>\n",
       "      <td>Original</td>\n",
       "      <td>Supernatural,Drama,Romance,School</td>\n",
       "      <td>1 hr. 46 min.</td>\n",
       "      <td>PG-13</td>\n",
       "      <td>9.19</td>\n",
       "      <td>454969</td>\n",
       "      <td>705186</td>\n",
       "      <td>33936</td>\n",
       "      <td>Mitsuha Miyamizu, a high school girl, yearns t...</td>\n",
       "    </tr>\n",
       "    <tr>\n",
       "      <th>2</th>\n",
       "      <td>Gintama°</td>\n",
       "      <td>TV</td>\n",
       "      <td>51</td>\n",
       "      <td>Finished Airing</td>\n",
       "      <td>2015-4-8</td>\n",
       "      <td>2016-3-30</td>\n",
       "      <td>Spring</td>\n",
       "      <td>Wednesdays at 18:00 (JST)</td>\n",
       "      <td>TV Tokyo,Aniplex,Dentsu</td>\n",
       "      <td>Funimation,Crunchyroll</td>\n",
       "      <td>Bandai Namco Pictures</td>\n",
       "      <td>Manga</td>\n",
       "      <td>Action,Comedy,Historical,Parody,Samurai,Sci-Fi...</td>\n",
       "      <td>24 min. per ep.</td>\n",
       "      <td>R</td>\n",
       "      <td>9.16</td>\n",
       "      <td>70279</td>\n",
       "      <td>194359</td>\n",
       "      <td>5597</td>\n",
       "      <td>Gintoki, Shinpachi, and Kagura return as the f...</td>\n",
       "    </tr>\n",
       "    <tr>\n",
       "      <th>3</th>\n",
       "      <td>Steins;Gate 0</td>\n",
       "      <td>TV</td>\n",
       "      <td>23</td>\n",
       "      <td>Currently Airing</td>\n",
       "      <td>2018-4-12</td>\n",
       "      <td>-</td>\n",
       "      <td>Spring</td>\n",
       "      <td>Thursdays at 01:35 (JST)</td>\n",
       "      <td>Nitroplus</td>\n",
       "      <td>Funimation</td>\n",
       "      <td>White Fox</td>\n",
       "      <td>Visual novel</td>\n",
       "      <td>Sci-Fi,Thriller</td>\n",
       "      <td>23 min. per ep.</td>\n",
       "      <td>PG-13</td>\n",
       "      <td>9.16</td>\n",
       "      <td>12609</td>\n",
       "      <td>186331</td>\n",
       "      <td>1117</td>\n",
       "      <td>The dark untold story of Steins;Gate that lead...</td>\n",
       "    </tr>\n",
       "    <tr>\n",
       "      <th>4</th>\n",
       "      <td>Steins;Gate</td>\n",
       "      <td>TV</td>\n",
       "      <td>24</td>\n",
       "      <td>Finished Airing</td>\n",
       "      <td>2011-4-6</td>\n",
       "      <td>2011-9-14</td>\n",
       "      <td>Spring</td>\n",
       "      <td>Wednesdays at 02:05 (JST)</td>\n",
       "      <td>Frontier Works,Media Factory,Movic,AT-X,Kadoka...</td>\n",
       "      <td>Funimation</td>\n",
       "      <td>White Fox</td>\n",
       "      <td>Visual novel</td>\n",
       "      <td>Sci-Fi,Thriller</td>\n",
       "      <td>24 min. per ep.</td>\n",
       "      <td>PG-13</td>\n",
       "      <td>9.14</td>\n",
       "      <td>552791</td>\n",
       "      <td>990419</td>\n",
       "      <td>90365</td>\n",
       "      <td>The self-proclaimed mad scientist Rintarou Oka...</td>\n",
       "    </tr>\n",
       "  </tbody>\n",
       "</table>\n",
       "</div>"
      ],
      "text/plain": [
       "                              Title   Type Episodes            Status  \\\n",
       "0  Fullmetal Alchemist: Brotherhood     TV       64   Finished Airing   \n",
       "1                    Kimi no Na wa.  Movie        1   Finished Airing   \n",
       "2                          Gintama°     TV       51   Finished Airing   \n",
       "3                     Steins;Gate 0     TV       23  Currently Airing   \n",
       "4                       Steins;Gate     TV       24   Finished Airing   \n",
       "\n",
       "  Start airing End airing Starting season             Broadcast time  \\\n",
       "0     2009-4-5   2010-7-4          Spring     Sundays at 17:00 (JST)   \n",
       "1    2016-8-26          -               -                          -   \n",
       "2     2015-4-8  2016-3-30          Spring  Wednesdays at 18:00 (JST)   \n",
       "3    2018-4-12          -          Spring   Thursdays at 01:35 (JST)   \n",
       "4     2011-4-6  2011-9-14          Spring  Wednesdays at 02:05 (JST)   \n",
       "\n",
       "                                           Producers  \\\n",
       "0  Aniplex,Square Enix,Mainichi Broadcasting Syst...   \n",
       "1  Kadokawa Shoten,Toho,Sound Team Don Juan,Lawso...   \n",
       "2                            TV Tokyo,Aniplex,Dentsu   \n",
       "3                                          Nitroplus   \n",
       "4  Frontier Works,Media Factory,Movic,AT-X,Kadoka...   \n",
       "\n",
       "                       Licensors                Studios       Sources  \\\n",
       "0  Funimation,Aniplex of America                  Bones         Manga   \n",
       "1           Funimation,NYAV Post       CoMix Wave Films      Original   \n",
       "2         Funimation,Crunchyroll  Bandai Namco Pictures         Manga   \n",
       "3                     Funimation              White Fox  Visual novel   \n",
       "4                     Funimation              White Fox  Visual novel   \n",
       "\n",
       "                                              Genres         Duration Rating  \\\n",
       "0  Action,Military,Adventure,Comedy,Drama,Magic,F...  24 min. per ep.      R   \n",
       "1                  Supernatural,Drama,Romance,School    1 hr. 46 min.  PG-13   \n",
       "2  Action,Comedy,Historical,Parody,Samurai,Sci-Fi...  24 min. per ep.      R   \n",
       "3                                    Sci-Fi,Thriller  23 min. per ep.  PG-13   \n",
       "4                                    Sci-Fi,Thriller  24 min. per ep.  PG-13   \n",
       "\n",
       "   Score  Scored by  Members  Favorites  \\\n",
       "0   9.25     719706  1176368     105387   \n",
       "1   9.19     454969   705186      33936   \n",
       "2   9.16      70279   194359       5597   \n",
       "3   9.16      12609   186331       1117   \n",
       "4   9.14     552791   990419      90365   \n",
       "\n",
       "                                         Description  \n",
       "0  \"In order for something to be obtained, someth...  \n",
       "1  Mitsuha Miyamizu, a high school girl, yearns t...  \n",
       "2  Gintoki, Shinpachi, and Kagura return as the f...  \n",
       "3  The dark untold story of Steins;Gate that lead...  \n",
       "4  The self-proclaimed mad scientist Rintarou Oka...  "
      ]
     },
     "execution_count": 6,
     "metadata": {},
     "output_type": "execute_result"
    }
   ],
   "source": [
    "data_anime_raw.head()"
   ]
  },
  {
   "cell_type": "markdown",
   "metadata": {},
   "source": [
    "## Filter the anime"
   ]
  },
  {
   "cell_type": "code",
   "execution_count": 8,
   "metadata": {
    "scrolled": true
   },
   "outputs": [],
   "source": [
    "\n",
    "# Select only the anime in the dataset data_anime\n",
    "anime_id_selected = []\n",
    "\n",
    "for title in data_anime_raw['Title']:\n",
    "    current_id = anime_recommand_raw[anime_recommand_raw['name'] == title]['anime_id'].values\n",
    "    if len( current_id ) > 0:\n",
    "        anime_id_selected.append( current_id[0] )"
   ]
  },
  {
   "cell_type": "code",
   "execution_count": 9,
   "metadata": {},
   "outputs": [],
   "source": [
    "anime_id_selected.sort()\n",
    "anime_id_selected = np.array(anime_id_selected)"
   ]
  },
  {
   "cell_type": "code",
   "execution_count": 12,
   "metadata": {
    "scrolled": true
   },
   "outputs": [
    {
     "data": {
      "text/plain": [
       "(1342,)"
      ]
     },
     "execution_count": 12,
     "metadata": {},
     "output_type": "execute_result"
    }
   ],
   "source": [
    "anime_id_selected.shape"
   ]
  },
  {
   "cell_type": "code",
   "execution_count": 13,
   "metadata": {},
   "outputs": [
    {
     "data": {
      "text/plain": [
       "array([    1,     5,     6, ..., 34349, 34445, 34514], dtype=int64)"
      ]
     },
     "execution_count": 13,
     "metadata": {},
     "output_type": "execute_result"
    }
   ],
   "source": [
    "anime_id_selected"
   ]
  },
  {
   "cell_type": "markdown",
   "metadata": {},
   "source": [
    "## Get the rating of the selected animes from the first 5000 users"
   ]
  },
  {
   "cell_type": "code",
   "execution_count": 37,
   "metadata": {},
   "outputs": [],
   "source": [
    "import os\n",
    "file_exists = os.path.exists(\"./data/rating_table.csv\")\n",
    "if not file_exists:\n",
    "    rating_table = np.full( (5000, len(anime_id_selected)), -1 )\n",
    "    for index, row in rating_recommand_raw.iterrows():\n",
    "        if row['user_id'] >= 5000:\n",
    "            break\n",
    "        if row['anime_id'] in anime_id_selected:\n",
    "            rating_table[ row['user_id'] - 1 , np.where( anime_id_selected == row['anime_id'] )[0] ] = row['rating']\n",
    "    pd.DataFrame(rating_table, columns = list(anime_id_selected) ).to_csv(\"./data/rating_table.csv\")"
   ]
  },
  {
   "cell_type": "code",
   "execution_count": 38,
   "metadata": {},
   "outputs": [],
   "source": [
    "rating_table_df = pd.read_csv(\"./data/rating_table.csv\", index_col = 0)"
   ]
  },
  {
   "cell_type": "code",
   "execution_count": 39,
   "metadata": {
    "scrolled": true
   },
   "outputs": [
    {
     "data": {
      "text/html": [
       "<div>\n",
       "<style scoped>\n",
       "    .dataframe tbody tr th:only-of-type {\n",
       "        vertical-align: middle;\n",
       "    }\n",
       "\n",
       "    .dataframe tbody tr th {\n",
       "        vertical-align: top;\n",
       "    }\n",
       "\n",
       "    .dataframe thead th {\n",
       "        text-align: right;\n",
       "    }\n",
       "</style>\n",
       "<table border=\"1\" class=\"dataframe\">\n",
       "  <thead>\n",
       "    <tr style=\"text-align: right;\">\n",
       "      <th></th>\n",
       "      <th>1</th>\n",
       "      <th>5</th>\n",
       "      <th>6</th>\n",
       "      <th>15</th>\n",
       "      <th>16</th>\n",
       "      <th>17</th>\n",
       "      <th>18</th>\n",
       "      <th>20</th>\n",
       "      <th>21</th>\n",
       "      <th>24</th>\n",
       "      <th>...</th>\n",
       "      <th>33988</th>\n",
       "      <th>34076</th>\n",
       "      <th>34103</th>\n",
       "      <th>34136</th>\n",
       "      <th>34240</th>\n",
       "      <th>34284</th>\n",
       "      <th>34299</th>\n",
       "      <th>34349</th>\n",
       "      <th>34445</th>\n",
       "      <th>34514</th>\n",
       "    </tr>\n",
       "  </thead>\n",
       "  <tbody>\n",
       "    <tr>\n",
       "      <th>0</th>\n",
       "      <td>-1</td>\n",
       "      <td>-1</td>\n",
       "      <td>-1</td>\n",
       "      <td>-1</td>\n",
       "      <td>-1</td>\n",
       "      <td>-1</td>\n",
       "      <td>-1</td>\n",
       "      <td>-1</td>\n",
       "      <td>-1</td>\n",
       "      <td>-1</td>\n",
       "      <td>...</td>\n",
       "      <td>-1</td>\n",
       "      <td>-1</td>\n",
       "      <td>-1</td>\n",
       "      <td>-1</td>\n",
       "      <td>-1</td>\n",
       "      <td>-1</td>\n",
       "      <td>-1</td>\n",
       "      <td>-1</td>\n",
       "      <td>-1</td>\n",
       "      <td>-1</td>\n",
       "    </tr>\n",
       "    <tr>\n",
       "      <th>1</th>\n",
       "      <td>-1</td>\n",
       "      <td>-1</td>\n",
       "      <td>-1</td>\n",
       "      <td>-1</td>\n",
       "      <td>-1</td>\n",
       "      <td>-1</td>\n",
       "      <td>-1</td>\n",
       "      <td>-1</td>\n",
       "      <td>-1</td>\n",
       "      <td>-1</td>\n",
       "      <td>...</td>\n",
       "      <td>-1</td>\n",
       "      <td>-1</td>\n",
       "      <td>-1</td>\n",
       "      <td>-1</td>\n",
       "      <td>-1</td>\n",
       "      <td>-1</td>\n",
       "      <td>-1</td>\n",
       "      <td>-1</td>\n",
       "      <td>-1</td>\n",
       "      <td>-1</td>\n",
       "    </tr>\n",
       "    <tr>\n",
       "      <th>2</th>\n",
       "      <td>-1</td>\n",
       "      <td>-1</td>\n",
       "      <td>-1</td>\n",
       "      <td>-1</td>\n",
       "      <td>-1</td>\n",
       "      <td>-1</td>\n",
       "      <td>-1</td>\n",
       "      <td>8</td>\n",
       "      <td>-1</td>\n",
       "      <td>-1</td>\n",
       "      <td>...</td>\n",
       "      <td>-1</td>\n",
       "      <td>-1</td>\n",
       "      <td>-1</td>\n",
       "      <td>-1</td>\n",
       "      <td>-1</td>\n",
       "      <td>-1</td>\n",
       "      <td>-1</td>\n",
       "      <td>-1</td>\n",
       "      <td>-1</td>\n",
       "      <td>-1</td>\n",
       "    </tr>\n",
       "    <tr>\n",
       "      <th>3</th>\n",
       "      <td>-1</td>\n",
       "      <td>-1</td>\n",
       "      <td>-1</td>\n",
       "      <td>-1</td>\n",
       "      <td>-1</td>\n",
       "      <td>-1</td>\n",
       "      <td>-1</td>\n",
       "      <td>-1</td>\n",
       "      <td>-1</td>\n",
       "      <td>-1</td>\n",
       "      <td>...</td>\n",
       "      <td>-1</td>\n",
       "      <td>-1</td>\n",
       "      <td>-1</td>\n",
       "      <td>-1</td>\n",
       "      <td>-1</td>\n",
       "      <td>-1</td>\n",
       "      <td>-1</td>\n",
       "      <td>-1</td>\n",
       "      <td>-1</td>\n",
       "      <td>-1</td>\n",
       "    </tr>\n",
       "    <tr>\n",
       "      <th>4</th>\n",
       "      <td>-1</td>\n",
       "      <td>-1</td>\n",
       "      <td>8</td>\n",
       "      <td>6</td>\n",
       "      <td>-1</td>\n",
       "      <td>6</td>\n",
       "      <td>6</td>\n",
       "      <td>6</td>\n",
       "      <td>-1</td>\n",
       "      <td>1</td>\n",
       "      <td>...</td>\n",
       "      <td>-1</td>\n",
       "      <td>-1</td>\n",
       "      <td>-1</td>\n",
       "      <td>-1</td>\n",
       "      <td>-1</td>\n",
       "      <td>-1</td>\n",
       "      <td>-1</td>\n",
       "      <td>-1</td>\n",
       "      <td>-1</td>\n",
       "      <td>-1</td>\n",
       "    </tr>\n",
       "    <tr>\n",
       "      <th>...</th>\n",
       "      <td>...</td>\n",
       "      <td>...</td>\n",
       "      <td>...</td>\n",
       "      <td>...</td>\n",
       "      <td>...</td>\n",
       "      <td>...</td>\n",
       "      <td>...</td>\n",
       "      <td>...</td>\n",
       "      <td>...</td>\n",
       "      <td>...</td>\n",
       "      <td>...</td>\n",
       "      <td>...</td>\n",
       "      <td>...</td>\n",
       "      <td>...</td>\n",
       "      <td>...</td>\n",
       "      <td>...</td>\n",
       "      <td>...</td>\n",
       "      <td>...</td>\n",
       "      <td>...</td>\n",
       "      <td>...</td>\n",
       "      <td>...</td>\n",
       "    </tr>\n",
       "    <tr>\n",
       "      <th>4995</th>\n",
       "      <td>-1</td>\n",
       "      <td>-1</td>\n",
       "      <td>-1</td>\n",
       "      <td>-1</td>\n",
       "      <td>-1</td>\n",
       "      <td>-1</td>\n",
       "      <td>-1</td>\n",
       "      <td>-1</td>\n",
       "      <td>-1</td>\n",
       "      <td>-1</td>\n",
       "      <td>...</td>\n",
       "      <td>-1</td>\n",
       "      <td>-1</td>\n",
       "      <td>-1</td>\n",
       "      <td>-1</td>\n",
       "      <td>-1</td>\n",
       "      <td>-1</td>\n",
       "      <td>-1</td>\n",
       "      <td>-1</td>\n",
       "      <td>-1</td>\n",
       "      <td>-1</td>\n",
       "    </tr>\n",
       "    <tr>\n",
       "      <th>4996</th>\n",
       "      <td>-1</td>\n",
       "      <td>-1</td>\n",
       "      <td>7</td>\n",
       "      <td>-1</td>\n",
       "      <td>10</td>\n",
       "      <td>-1</td>\n",
       "      <td>-1</td>\n",
       "      <td>-1</td>\n",
       "      <td>-1</td>\n",
       "      <td>-1</td>\n",
       "      <td>...</td>\n",
       "      <td>-1</td>\n",
       "      <td>-1</td>\n",
       "      <td>-1</td>\n",
       "      <td>-1</td>\n",
       "      <td>-1</td>\n",
       "      <td>-1</td>\n",
       "      <td>-1</td>\n",
       "      <td>-1</td>\n",
       "      <td>-1</td>\n",
       "      <td>-1</td>\n",
       "    </tr>\n",
       "    <tr>\n",
       "      <th>4997</th>\n",
       "      <td>10</td>\n",
       "      <td>-1</td>\n",
       "      <td>8</td>\n",
       "      <td>-1</td>\n",
       "      <td>7</td>\n",
       "      <td>-1</td>\n",
       "      <td>-1</td>\n",
       "      <td>-1</td>\n",
       "      <td>-1</td>\n",
       "      <td>9</td>\n",
       "      <td>...</td>\n",
       "      <td>-1</td>\n",
       "      <td>-1</td>\n",
       "      <td>-1</td>\n",
       "      <td>-1</td>\n",
       "      <td>-1</td>\n",
       "      <td>-1</td>\n",
       "      <td>-1</td>\n",
       "      <td>-1</td>\n",
       "      <td>-1</td>\n",
       "      <td>-1</td>\n",
       "    </tr>\n",
       "    <tr>\n",
       "      <th>4998</th>\n",
       "      <td>-1</td>\n",
       "      <td>-1</td>\n",
       "      <td>-1</td>\n",
       "      <td>-1</td>\n",
       "      <td>-1</td>\n",
       "      <td>-1</td>\n",
       "      <td>-1</td>\n",
       "      <td>-1</td>\n",
       "      <td>-1</td>\n",
       "      <td>9</td>\n",
       "      <td>...</td>\n",
       "      <td>-1</td>\n",
       "      <td>-1</td>\n",
       "      <td>-1</td>\n",
       "      <td>-1</td>\n",
       "      <td>-1</td>\n",
       "      <td>-1</td>\n",
       "      <td>-1</td>\n",
       "      <td>-1</td>\n",
       "      <td>-1</td>\n",
       "      <td>-1</td>\n",
       "    </tr>\n",
       "    <tr>\n",
       "      <th>4999</th>\n",
       "      <td>-1</td>\n",
       "      <td>-1</td>\n",
       "      <td>-1</td>\n",
       "      <td>-1</td>\n",
       "      <td>-1</td>\n",
       "      <td>-1</td>\n",
       "      <td>-1</td>\n",
       "      <td>-1</td>\n",
       "      <td>-1</td>\n",
       "      <td>-1</td>\n",
       "      <td>...</td>\n",
       "      <td>-1</td>\n",
       "      <td>-1</td>\n",
       "      <td>-1</td>\n",
       "      <td>-1</td>\n",
       "      <td>-1</td>\n",
       "      <td>-1</td>\n",
       "      <td>-1</td>\n",
       "      <td>-1</td>\n",
       "      <td>-1</td>\n",
       "      <td>-1</td>\n",
       "    </tr>\n",
       "  </tbody>\n",
       "</table>\n",
       "<p>5000 rows × 1342 columns</p>\n",
       "</div>"
      ],
      "text/plain": [
       "       1  5  6  15  16  17  18  20  21  24  ...  33988  34076  34103  34136  \\\n",
       "0     -1 -1 -1  -1  -1  -1  -1  -1  -1  -1  ...     -1     -1     -1     -1   \n",
       "1     -1 -1 -1  -1  -1  -1  -1  -1  -1  -1  ...     -1     -1     -1     -1   \n",
       "2     -1 -1 -1  -1  -1  -1  -1   8  -1  -1  ...     -1     -1     -1     -1   \n",
       "3     -1 -1 -1  -1  -1  -1  -1  -1  -1  -1  ...     -1     -1     -1     -1   \n",
       "4     -1 -1  8   6  -1   6   6   6  -1   1  ...     -1     -1     -1     -1   \n",
       "...   .. .. ..  ..  ..  ..  ..  ..  ..  ..  ...    ...    ...    ...    ...   \n",
       "4995  -1 -1 -1  -1  -1  -1  -1  -1  -1  -1  ...     -1     -1     -1     -1   \n",
       "4996  -1 -1  7  -1  10  -1  -1  -1  -1  -1  ...     -1     -1     -1     -1   \n",
       "4997  10 -1  8  -1   7  -1  -1  -1  -1   9  ...     -1     -1     -1     -1   \n",
       "4998  -1 -1 -1  -1  -1  -1  -1  -1  -1   9  ...     -1     -1     -1     -1   \n",
       "4999  -1 -1 -1  -1  -1  -1  -1  -1  -1  -1  ...     -1     -1     -1     -1   \n",
       "\n",
       "      34240  34284  34299  34349  34445  34514  \n",
       "0        -1     -1     -1     -1     -1     -1  \n",
       "1        -1     -1     -1     -1     -1     -1  \n",
       "2        -1     -1     -1     -1     -1     -1  \n",
       "3        -1     -1     -1     -1     -1     -1  \n",
       "4        -1     -1     -1     -1     -1     -1  \n",
       "...     ...    ...    ...    ...    ...    ...  \n",
       "4995     -1     -1     -1     -1     -1     -1  \n",
       "4996     -1     -1     -1     -1     -1     -1  \n",
       "4997     -1     -1     -1     -1     -1     -1  \n",
       "4998     -1     -1     -1     -1     -1     -1  \n",
       "4999     -1     -1     -1     -1     -1     -1  \n",
       "\n",
       "[5000 rows x 1342 columns]"
      ]
     },
     "execution_count": 39,
     "metadata": {},
     "output_type": "execute_result"
    }
   ],
   "source": [
    "rating_table_df"
   ]
  },
  {
   "cell_type": "markdown",
   "metadata": {},
   "source": [
    "## Dimension Reduction"
   ]
  },
  {
   "cell_type": "code",
   "execution_count": 40,
   "metadata": {},
   "outputs": [],
   "source": [
    "from sklearn.decomposition import PCA"
   ]
  },
  {
   "cell_type": "code",
   "execution_count": 41,
   "metadata": {},
   "outputs": [],
   "source": [
    "pca = PCA(n_components=120)"
   ]
  },
  {
   "cell_type": "code",
   "execution_count": 42,
   "metadata": {},
   "outputs": [],
   "source": [
    "rating_table = np.array( rating_table_df )"
   ]
  },
  {
   "cell_type": "code",
   "execution_count": 43,
   "metadata": {},
   "outputs": [
    {
     "data": {
      "text/plain": [
       "PCA(n_components=120)"
      ]
     },
     "execution_count": 43,
     "metadata": {},
     "output_type": "execute_result"
    }
   ],
   "source": [
    "pca.fit(rating_table)"
   ]
  },
  {
   "cell_type": "code",
   "execution_count": 44,
   "metadata": {},
   "outputs": [
    {
     "data": {
      "text/plain": [
       "array([467.3470925 , 100.59931433,  83.56536955,  74.92808575,\n",
       "        70.42453916,  51.10670835,  39.626582  ,  37.20907846,\n",
       "        34.80538193,  30.90098361,  29.77010293,  25.74720997,\n",
       "        24.03798017,  23.50127043,  21.9375232 ,  21.00202336,\n",
       "        20.03743919,  19.4973149 ,  18.75238964,  17.91391474,\n",
       "        17.34613491,  17.18324286,  16.95778749,  16.31352454,\n",
       "        16.12838753,  15.30541368,  15.02590516,  14.90647968,\n",
       "        14.74948479,  14.53480321,  14.18510172,  14.09197349,\n",
       "        13.90633045,  13.60881064,  13.47753293,  13.29327337,\n",
       "        13.02097757,  12.88150715,  12.82864064,  12.68719406,\n",
       "        12.13642766,  12.10081881,  11.88806185,  11.65750935,\n",
       "        11.49318855,  11.44306034,  11.36498983,  11.02179082,\n",
       "        10.99216039,  10.88622751,  10.81441105,  10.53655806,\n",
       "        10.46826025,  10.40240744,  10.26215854,  10.20223343,\n",
       "        10.12847193,  10.03924398,   9.94279407,   9.82792387,\n",
       "         9.7694305 ,   9.63436989,   9.56107827,   9.51608439,\n",
       "         9.44314152,   9.33019979,   9.19400864,   9.14613131,\n",
       "         9.05660697,   8.91341174,   8.87545064,   8.76475939,\n",
       "         8.67787425,   8.62492604,   8.54946534,   8.50019229,\n",
       "         8.4177181 ,   8.35885789,   8.095845  ,   8.0397058 ,\n",
       "         7.98599886,   7.96256901,   7.90592934,   7.81610593,\n",
       "         7.75694401,   7.67563434,   7.63891474,   7.55090405,\n",
       "         7.51938119,   7.47661478,   7.3351565 ,   7.30632021,\n",
       "         7.23639343,   7.15154867,   7.13917279,   7.06192128,\n",
       "         7.03367057,   6.96470696,   6.92214235,   6.86633273,\n",
       "         6.82116799,   6.73992634,   6.66012888,   6.6111084 ,\n",
       "         6.56479667,   6.53511233,   6.47429793,   6.4176331 ,\n",
       "         6.36258685,   6.31805824,   6.28446475,   6.22443168,\n",
       "         6.11030728,   6.05733412,   6.04303067,   6.00632838,\n",
       "         5.93601365,   5.87936039,   5.80847239,   5.74800053])"
      ]
     },
     "execution_count": 44,
     "metadata": {},
     "output_type": "execute_result"
    }
   ],
   "source": [
    "pca.explained_variance_[:] "
   ]
  },
  {
   "cell_type": "code",
   "execution_count": 45,
   "metadata": {},
   "outputs": [],
   "source": [
    "rating_table_pca = pca.transform(rating_table)"
   ]
  },
  {
   "cell_type": "code",
   "execution_count": 46,
   "metadata": {},
   "outputs": [
    {
     "data": {
      "text/plain": [
       "-1990.0453996888698"
      ]
     },
     "execution_count": 46,
     "metadata": {},
     "output_type": "execute_result"
    }
   ],
   "source": [
    "pca.score(rating_table) "
   ]
  },
  {
   "cell_type": "code",
   "execution_count": 48,
   "metadata": {},
   "outputs": [
    {
     "data": {
      "text/plain": [
       "(5000, 120)"
      ]
     },
     "execution_count": 48,
     "metadata": {},
     "output_type": "execute_result"
    }
   ],
   "source": [
    "pca.transform(rating_table).shape"
   ]
  },
  {
   "cell_type": "code",
   "execution_count": 55,
   "metadata": {},
   "outputs": [
    {
     "name": "stdout",
     "output_type": "stream",
     "text": [
      "[pca] >Column labels are auto-completed.\n",
      "[pca] >Row labels are auto-completed.\n",
      "[pca] >The PCA reduction is performed to capture [95.0%] explained variance using the [1342] columns of the input data.\n",
      "[pca] >Fitting using PCA..\n",
      "[pca] >Computing loadings and PCs..\n",
      "[pca] >Computing explained variance..\n",
      "[pca] >Number of components is [502] that covers the [95.00%] explained variance.\n",
      "[pca] >Outlier detection using Hotelling T2 test with alpha=[0.05] and n_components=[5]\n",
      "[pca] >Outlier detection using SPE/DmodX with n_std=[2]\n"
     ]
    },
    {
     "data": {
      "image/png": "[encoded data removed]",
      "text/plain": [
       "<Figure size 720x576 with 1 Axes>"
      ]
     },
     "metadata": {
      "needs_background": "light"
     },
     "output_type": "display_data"
    },
    {
     "data": {
      "text/plain": [
       "<Figure size 432x288 with 0 Axes>"
      ]
     },
     "metadata": {},
     "output_type": "display_data"
    },
    {
     "data": {
      "image/png": "[encoded data removed]",
      "text/plain": [
       "<Figure size 720x576 with 1 Axes>"
      ]
     },
     "metadata": {
      "needs_background": "light"
     },
     "output_type": "display_data"
    },
    {
     "data": {
      "image/png": "[encoded data removed]",
      "text/plain": [
       "<Figure size 720x576 with 1 Axes>"
      ]
     },
     "metadata": {
      "needs_background": "light"
     },
     "output_type": "display_data"
    }
   ],
   "source": [
    "from pca import pca\n",
    "\n",
    "# Initialize to reduce the data up to the number of componentes that explains 95% of the variance.\n",
    "model = pca(n_components=0.95)\n",
    "\n",
    "# Or reduce the data towards 2 PCs\n",
    "# model = pca(n_components=2)\n",
    "\n",
    "# Fit transform\n",
    "results = model.fit_transform(rating_table)\n",
    "\n",
    "# Plot explained variance\n",
    "fig, ax = model.plot()\n",
    "\n",
    "# Scatter first 2 PCs\n",
    "fig, ax = model.scatter()\n",
    "\n",
    "# Make biplot with the number of features\n",
    "fig, ax = model.biplot(n_feat=4)"
   ]
  },
  {
   "cell_type": "markdown",
   "metadata": {},
   "source": [
    "## K means cluster "
   ]
  },
  {
   "cell_type": "code",
   "execution_count": 49,
   "metadata": {},
   "outputs": [],
   "source": [
    "from sklearn.cluster import KMeans\n",
    "kmeans = KMeans(n_clusters=10, random_state=0).fit(rating_table)"
   ]
  },
  {
   "cell_type": "code",
   "execution_count": 50,
   "metadata": {},
   "outputs": [
    {
     "data": {
      "text/plain": [
       "2687.81336024321"
      ]
     },
     "execution_count": 50,
     "metadata": {},
     "output_type": "execute_result"
    }
   ],
   "source": [
    "kmeans.inertia_ / 5000"
   ]
  },
  {
   "cell_type": "code",
   "execution_count": 51,
   "metadata": {},
   "outputs": [],
   "source": [
    "inertias = np.zeros(30)\n",
    "for k in range(1,31):\n",
    "    kmeans = KMeans(n_clusters=k, random_state=0).fit(rating_table)\n",
    "    inertias[k-1] = kmeans.inertia_ / 5000"
   ]
  },
  {
   "cell_type": "code",
   "execution_count": 52,
   "metadata": {},
   "outputs": [
    {
     "data": {
      "text/plain": [
       "[<matplotlib.lines.Line2D at 0x1ca27536348>]"
      ]
     },
     "execution_count": 52,
     "metadata": {},
     "output_type": "execute_result"
    },
    {
     "data": {
      "image/png": "[encoded data removed]",
      "text/plain": [
       "<Figure size 432x288 with 1 Axes>"
      ]
     },
     "metadata": {
      "needs_background": "light"
     },
     "output_type": "display_data"
    }
   ],
   "source": [
    "pl.plot(range(1,31), inertias)"
   ]
  },
  {
   "cell_type": "code",
   "execution_count": 53,
   "metadata": {},
   "outputs": [
    {
     "data": {
      "text/plain": [
       "Counter({29: 1915,\n",
       "         7: 199,\n",
       "         17: 91,\n",
       "         19: 133,\n",
       "         11: 261,\n",
       "         10: 585,\n",
       "         13: 395,\n",
       "         16: 24,\n",
       "         2: 205,\n",
       "         5: 56,\n",
       "         18: 209,\n",
       "         22: 12,\n",
       "         20: 55,\n",
       "         1: 188,\n",
       "         26: 209,\n",
       "         25: 102,\n",
       "         21: 25,\n",
       "         9: 99,\n",
       "         6: 2,\n",
       "         0: 40,\n",
       "         8: 40,\n",
       "         14: 54,\n",
       "         15: 3,\n",
       "         24: 34,\n",
       "         12: 52,\n",
       "         3: 6,\n",
       "         4: 1,\n",
       "         23: 2,\n",
       "         28: 1,\n",
       "         27: 2})"
      ]
     },
     "execution_count": 53,
     "metadata": {},
     "output_type": "execute_result"
    }
   ],
   "source": [
    "from collections import Counter \n",
    "Counter( kmeans.predict(rating_table) )"
   ]
  },
  {
   "cell_type": "code",
   "execution_count": 155,
   "metadata": {},
   "outputs": [],
   "source": [
    "# def nmf(X, k):\n",
    "#     \"\"\"\n",
    "#     Args:\n",
    "#         X (np.array, dim: n,m,4): containing the image channel to be processed\n",
    "#         k (int): the number of elements to be used in the low rank approximation \n",
    "    \n",
    "#     Returns:\n",
    "#         X_low_rank_approx (np.array, dim: n,m,4): low rank approximation of X\n",
    "#     \"\"\"\n",
    "    \n",
    "# #     X_low_rank_approx = np.zeros(X.shape)\n",
    "# #     for i in range(4):\n",
    "#     A_0, D, B_0 = np.linalg.svd(X, full_matrices=False)\n",
    "#     A = np.abs(A_0[:,:k])\n",
    "#     B = np.abs(B_0[:k,:])\n",
    "\n",
    "#     for _ in range(65):\n",
    "#         B = np.nan_to_num(B * (A.T.dot(X))/(A.T.dot(A.dot(B))))\n",
    "#         A = np.nan_to_num(A * (X.dot(B.T)) / (A.dot(B.dot(B.T))))\n",
    "#     return A, B"
   ]
  }
 ],
 "metadata": {
  "kernelspec": {
   "display_name": "Python 3",
   "language": "python",
   "name": "python3"
  },
  "language_info": {
   "codemirror_mode": {
    "name": "ipython",
    "version": 3
   },
   "file_extension": ".py",
   "mimetype": "text/x-python",
   "name": "python",
   "nbconvert_exporter": "python",
   "pygments_lexer": "ipython3",
   "version": "3.7.9"
  }
 },
 "nbformat": 4,
 "nbformat_minor": 2
}
